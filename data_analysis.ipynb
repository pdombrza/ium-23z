{
 "cells": [
  {
   "cell_type": "markdown",
   "metadata": {},
   "source": [
    "## IUM 23Z - Etap I\n",
    "#### Błażej Ejzak 313220, Paweł Dombrzalski 318647 \n",
    "\n",
    "#### Zadanie:\n",
    "„Nasi użytkownicy chcą słyszeć muzykę możliwie najszybciej po uruchomieniu \n",
    "odtwarzania utworu. Nie możemy jednak całej muzyki utrzymywać w naszym najszybszym \n",
    "cache’u – jest to zbyt drogie. Pracujemy nad rozwiązaniem, które każdego wieczora będzie \n",
    "rozmieszczało muzykę (na następne 24h) pomiędzy różnymi poziomami cache – tak, aby \n",
    "zminimalizować koszty. Pytanie: skąd mamy wiedzieć, gdzie dany utwór umieścić?”\n",
    "#### Kontekst \n",
    "Serwis strumieniowy oferujący dostęp do muzyki.\n",
    "#### Problem biznesowy\n",
    "Rozmieszczenie utworów w różnych poziomach cache'u na następne 24 godziny w celu szybszego dostępu do muzyki dla użytkowników. Rozmieszczenie utworów będzie określane na podstawie wybranych atrybutów z dostępnych tabel danych co będzie wynikiem wyuczonego modelu.\n",
    "#### Biznesowe kryteria sukcesu\n",
    "Dopasowanie utworów do odpowiednich poziomów cache'u pod względem ich popularności. System powinien rozmieszczać utwory tak, aby dostęp do muzyki był szybszy oraz poniesione koszta mniejsze niż obecnie. \n",
    "#### Zadanie modelowania\n",
    "Analiza szeregów czasowych - uwzględnienie dotychczasowej historii odtworzeń danych utworów oraz ich popularności w celu ustalenia rozmieszczenia muzyki do poszczególnych cache'y na następną dobę.\n",
    "#### Analityczne kryteria sukcesu\n",
    "Porównanie uzyskanych przez model wyników z kosztem obecnego rozmieszczenia utworów - nowy koszt powinien być nie większy niż obecny.  Koszt rozmieszczenia utworów będzie liczony na podstawie tabeli track_storage. Każdy poziom cache będzie miał nadaną wartość liczbową, o róznych rzędach wielkości - im szybszy cache, tym większa wartość. Ta liczba będzie przemnożona przez długość utworu - dostępna w tabeli tracks. Oprócz tego szybkość dostępu do muzyki powinna być nie większa niż obecnie. Możemy ją wyliczyć na podstawie tabeli sessions - biorąc timestamp ostatniego eventu play z sesji i odejmując timestamp pierwszego eventu w play sesji uzyskamy całkowity czas sesji. Po odjęciu od tego czasu czasów trwania poszczególnych utworów uzyskamy łączny czas ładowania utworów w sesji. Sumując te czasy dla wszystkich sesji uzyskamy łączny czas ładowania muzyki. Dążymy do tego aby średni czas oczekiwania wszystkich uczestników był jak najmniejszy - przy podobnych kosztach chcemy uzyskać poprawę o około 50%."
   ]
  },
  {
   "cell_type": "code",
   "execution_count": 35,
   "metadata": {},
   "outputs": [],
   "source": [
    "# imports\n",
    "import pandas as pd\n",
    "from matplotlib import pyplot as plt\n",
    "import seaborn as sns\n",
    "\n",
    "DATA_PATH1 = \"./data_v1/sessions.jsonl\"\n",
    "DATA_PATH2 = \"./data_v1/track_storage.jsonl\"\n",
    "DATA_PATH3 = \"./data_v2/tracks.jsonl\""
   ]
  },
  {
   "cell_type": "markdown",
   "metadata": {},
   "source": [
    "### Wstępne przejrzenie dostępnych danych"
   ]
  },
  {
   "cell_type": "code",
   "execution_count": 36,
   "metadata": {},
   "outputs": [
    {
     "data": {
      "text/html": [
       "<div>\n",
       "<style scoped>\n",
       "    .dataframe tbody tr th:only-of-type {\n",
       "        vertical-align: middle;\n",
       "    }\n",
       "\n",
       "    .dataframe tbody tr th {\n",
       "        vertical-align: top;\n",
       "    }\n",
       "\n",
       "    .dataframe thead th {\n",
       "        text-align: right;\n",
       "    }\n",
       "</style>\n",
       "<table border=\"1\" class=\"dataframe\">\n",
       "  <thead>\n",
       "    <tr style=\"text-align: right;\">\n",
       "      <th></th>\n",
       "      <th>session_id</th>\n",
       "      <th>timestamp</th>\n",
       "      <th>user_id</th>\n",
       "      <th>track_id</th>\n",
       "      <th>event_type</th>\n",
       "    </tr>\n",
       "  </thead>\n",
       "  <tbody>\n",
       "    <tr>\n",
       "      <th>0</th>\n",
       "      <td>124</td>\n",
       "      <td>2022-11-25 17:43:32.000</td>\n",
       "      <td>121.0</td>\n",
       "      <td>31AOj9sFz2gM0O3hMARRBx</td>\n",
       "      <td>play</td>\n",
       "    </tr>\n",
       "    <tr>\n",
       "      <th>1</th>\n",
       "      <td>125</td>\n",
       "      <td>2022-11-25 17:44:28.427</td>\n",
       "      <td>121.0</td>\n",
       "      <td>2EEfUuBRZA4Ax1vYcluFS0</td>\n",
       "      <td>play</td>\n",
       "    </tr>\n",
       "    <tr>\n",
       "      <th>2</th>\n",
       "      <td>126</td>\n",
       "      <td>2022-11-25 12:44:26.000</td>\n",
       "      <td>125.0</td>\n",
       "      <td>0yB4jrSwN0bFtFRDR5vyMj</td>\n",
       "      <td>play</td>\n",
       "    </tr>\n",
       "    <tr>\n",
       "      <th>3</th>\n",
       "      <td>126</td>\n",
       "      <td>2022-11-25 12:47:51.306</td>\n",
       "      <td>125.0</td>\n",
       "      <td>2xxq5LXFBFyawPChsOOWVu</td>\n",
       "      <td>play</td>\n",
       "    </tr>\n",
       "    <tr>\n",
       "      <th>4</th>\n",
       "      <td>126</td>\n",
       "      <td>2022-11-25 12:51:29.253</td>\n",
       "      <td>125.0</td>\n",
       "      <td>0zRc5cHuMrulujN8t1XbYE</td>\n",
       "      <td>play</td>\n",
       "    </tr>\n",
       "  </tbody>\n",
       "</table>\n",
       "</div>"
      ],
      "text/plain": [
       "   session_id               timestamp  user_id                track_id  \\\n",
       "0         124 2022-11-25 17:43:32.000    121.0  31AOj9sFz2gM0O3hMARRBx   \n",
       "1         125 2022-11-25 17:44:28.427    121.0  2EEfUuBRZA4Ax1vYcluFS0   \n",
       "2         126 2022-11-25 12:44:26.000    125.0  0yB4jrSwN0bFtFRDR5vyMj   \n",
       "3         126 2022-11-25 12:47:51.306    125.0  2xxq5LXFBFyawPChsOOWVu   \n",
       "4         126 2022-11-25 12:51:29.253    125.0  0zRc5cHuMrulujN8t1XbYE   \n",
       "\n",
       "  event_type  \n",
       "0       play  \n",
       "1       play  \n",
       "2       play  \n",
       "3       play  \n",
       "4       play  "
      ]
     },
     "execution_count": 36,
     "metadata": {},
     "output_type": "execute_result"
    }
   ],
   "source": [
    "session_data = pd.DataFrame(pd.read_json(DATA_PATH1, lines=True))\n",
    "session_data.head()"
   ]
  },
  {
   "cell_type": "code",
   "execution_count": 37,
   "metadata": {},
   "outputs": [
    {
     "data": {
      "text/html": [
       "<div>\n",
       "<style scoped>\n",
       "    .dataframe tbody tr th:only-of-type {\n",
       "        vertical-align: middle;\n",
       "    }\n",
       "\n",
       "    .dataframe tbody tr th {\n",
       "        vertical-align: top;\n",
       "    }\n",
       "\n",
       "    .dataframe thead th {\n",
       "        text-align: right;\n",
       "    }\n",
       "</style>\n",
       "<table border=\"1\" class=\"dataframe\">\n",
       "  <thead>\n",
       "    <tr style=\"text-align: right;\">\n",
       "      <th></th>\n",
       "      <th>session_id</th>\n",
       "      <th>timestamp</th>\n",
       "      <th>user_id</th>\n",
       "      <th>track_id</th>\n",
       "      <th>event_type</th>\n",
       "    </tr>\n",
       "  </thead>\n",
       "  <tbody>\n",
       "    <tr>\n",
       "      <th>count</th>\n",
       "      <td>80279.000000</td>\n",
       "      <td>80279</td>\n",
       "      <td>76209.000000</td>\n",
       "      <td>65685</td>\n",
       "      <td>76190</td>\n",
       "    </tr>\n",
       "    <tr>\n",
       "      <th>unique</th>\n",
       "      <td>NaN</td>\n",
       "      <td>NaN</td>\n",
       "      <td>NaN</td>\n",
       "      <td>19095</td>\n",
       "      <td>4</td>\n",
       "    </tr>\n",
       "    <tr>\n",
       "      <th>top</th>\n",
       "      <td>NaN</td>\n",
       "      <td>NaN</td>\n",
       "      <td>NaN</td>\n",
       "      <td>0cITLOYn1Sv4q27zZPqlNK</td>\n",
       "      <td>play</td>\n",
       "    </tr>\n",
       "    <tr>\n",
       "      <th>freq</th>\n",
       "      <td>NaN</td>\n",
       "      <td>NaN</td>\n",
       "      <td>NaN</td>\n",
       "      <td>17</td>\n",
       "      <td>42043</td>\n",
       "    </tr>\n",
       "    <tr>\n",
       "      <th>mean</th>\n",
       "      <td>7242.837778</td>\n",
       "      <td>2023-05-23 14:24:27.216211456</td>\n",
       "      <td>125.642811</td>\n",
       "      <td>NaN</td>\n",
       "      <td>NaN</td>\n",
       "    </tr>\n",
       "    <tr>\n",
       "      <th>min</th>\n",
       "      <td>124.000000</td>\n",
       "      <td>2022-11-25 11:49:52</td>\n",
       "      <td>101.000000</td>\n",
       "      <td>NaN</td>\n",
       "      <td>NaN</td>\n",
       "    </tr>\n",
       "    <tr>\n",
       "      <th>25%</th>\n",
       "      <td>3682.000000</td>\n",
       "      <td>2023-02-21 08:21:27.016999936</td>\n",
       "      <td>113.000000</td>\n",
       "      <td>NaN</td>\n",
       "      <td>NaN</td>\n",
       "    </tr>\n",
       "    <tr>\n",
       "      <th>50%</th>\n",
       "      <td>7319.000000</td>\n",
       "      <td>2023-05-26 05:43:56.054000128</td>\n",
       "      <td>126.000000</td>\n",
       "      <td>NaN</td>\n",
       "      <td>NaN</td>\n",
       "    </tr>\n",
       "    <tr>\n",
       "      <th>75%</th>\n",
       "      <td>10759.000000</td>\n",
       "      <td>2023-08-15 16:22:02.784000</td>\n",
       "      <td>138.000000</td>\n",
       "      <td>NaN</td>\n",
       "      <td>NaN</td>\n",
       "    </tr>\n",
       "    <tr>\n",
       "      <th>max</th>\n",
       "      <td>14317.000000</td>\n",
       "      <td>2023-11-25 11:48:25.680000</td>\n",
       "      <td>150.000000</td>\n",
       "      <td>NaN</td>\n",
       "      <td>NaN</td>\n",
       "    </tr>\n",
       "    <tr>\n",
       "      <th>std</th>\n",
       "      <td>4090.266936</td>\n",
       "      <td>NaN</td>\n",
       "      <td>14.456010</td>\n",
       "      <td>NaN</td>\n",
       "      <td>NaN</td>\n",
       "    </tr>\n",
       "  </tbody>\n",
       "</table>\n",
       "</div>"
      ],
      "text/plain": [
       "          session_id                      timestamp       user_id  \\\n",
       "count   80279.000000                          80279  76209.000000   \n",
       "unique           NaN                            NaN           NaN   \n",
       "top              NaN                            NaN           NaN   \n",
       "freq             NaN                            NaN           NaN   \n",
       "mean     7242.837778  2023-05-23 14:24:27.216211456    125.642811   \n",
       "min       124.000000            2022-11-25 11:49:52    101.000000   \n",
       "25%      3682.000000  2023-02-21 08:21:27.016999936    113.000000   \n",
       "50%      7319.000000  2023-05-26 05:43:56.054000128    126.000000   \n",
       "75%     10759.000000     2023-08-15 16:22:02.784000    138.000000   \n",
       "max     14317.000000     2023-11-25 11:48:25.680000    150.000000   \n",
       "std      4090.266936                            NaN     14.456010   \n",
       "\n",
       "                      track_id event_type  \n",
       "count                    65685      76190  \n",
       "unique                   19095          4  \n",
       "top     0cITLOYn1Sv4q27zZPqlNK       play  \n",
       "freq                        17      42043  \n",
       "mean                       NaN        NaN  \n",
       "min                        NaN        NaN  \n",
       "25%                        NaN        NaN  \n",
       "50%                        NaN        NaN  \n",
       "75%                        NaN        NaN  \n",
       "max                        NaN        NaN  \n",
       "std                        NaN        NaN  "
      ]
     },
     "execution_count": 37,
     "metadata": {},
     "output_type": "execute_result"
    }
   ],
   "source": [
    "session_data.describe(include=\"all\")"
   ]
  },
  {
   "cell_type": "code",
   "execution_count": 38,
   "metadata": {},
   "outputs": [
    {
     "data": {
      "text/plain": [
       "Index(['session_id', 'timestamp', 'user_id', 'track_id', 'event_type'], dtype='object')"
      ]
     },
     "execution_count": 38,
     "metadata": {},
     "output_type": "execute_result"
    }
   ],
   "source": [
    "session_data.columns"
   ]
  },
  {
   "cell_type": "markdown",
   "metadata": {},
   "source": [
    "#### Procent wartości null w zbiorze session_data"
   ]
  },
  {
   "cell_type": "code",
   "execution_count": 39,
   "metadata": {},
   "outputs": [
    {
     "name": "stdout",
     "output_type": "stream",
     "text": [
      "session_id     0.000000\n",
      "timestamp      0.000000\n",
      "user_id        5.069819\n",
      "track_id      18.179100\n",
      "event_type     5.093486\n",
      "dtype: float64\n"
     ]
    }
   ],
   "source": [
    "column_nulls = session_data.isnull().sum() * 100 / len(session_data)\n",
    "print(column_nulls)"
   ]
  },
  {
   "cell_type": "code",
   "execution_count": 40,
   "metadata": {},
   "outputs": [
    {
     "data": {
      "image/png": "[encoded data removed]",
      "text/plain": [
       "<Figure size 640x480 with 1 Axes>"
      ]
     },
     "metadata": {},
     "output_type": "display_data"
    }
   ],
   "source": [
    "plt.title(\"Procent wartości null w poszczególnych atrybutach\")\n",
    "plt.xlabel(\"Atrybut\")\n",
    "plt.ylabel(\"Ilość nulli\")\n",
    "plt.bar(column_nulls[column_nulls > 0].index, column_nulls[column_nulls > 0].values, align='center')\n",
    "plt.show()"
   ]
  },
  {
   "cell_type": "markdown",
   "metadata": {},
   "source": [
    "#### Atrybuty w zbiorze sessions:\n",
    "* session_id - id sesji, liczba całkowita, sekwencja\n",
    "* timestamp - znacznik czasowy, w formacie YYYY-MM-DD HH:MM:SS.miliseconds\n",
    "* user_id - id użytkownika, liczba całkowita, atrybut dyskretny nominalny\n",
    "* track_id - string, id ścieżki dźwiękowej, atrybut dyskretny nominalny, duża ilość wartości\n",
    "* event_type - string, id eventu, atrybut dyskretny nominalny - wartości [play, advertisment, like, skip]"
   ]
  },
  {
   "cell_type": "markdown",
   "metadata": {},
   "source": [
    "#### Atrybut timestamp\n",
    "Ilość nulli - 0%"
   ]
  },
  {
   "cell_type": "markdown",
   "metadata": {},
   "source": [
    "Liczba zdarzeń w każdej godzinie:"
   ]
  },
  {
   "cell_type": "code",
   "execution_count": 41,
   "metadata": {},
   "outputs": [
    {
     "data": {
      "image/png": "[encoded data removed]",
      "text/plain": [
       "<Figure size 640x480 with 1 Axes>"
      ]
     },
     "metadata": {},
     "output_type": "display_data"
    }
   ],
   "source": [
    "session_data[\"time\"] = pd.to_datetime(session_data[\"timestamp\"].dt.time.astype(str), format='mixed')\n",
    "plt.title(\"Liczba zdarzeń w każdej godzinie\")\n",
    "plt.xlabel(\"Godzina\")\n",
    "plt.ylabel(\"Liczba zdarzeń\")\n",
    "plt.bar(session_data[\"time\"].dt.hour.unique() ,session_data[\"time\"].dt.hour.value_counts(), align='center')\n",
    "plt.xticks(session_data[\"time\"].dt.hour.unique())\n",
    "plt.show()"
   ]
  },
  {
   "cell_type": "markdown",
   "metadata": {},
   "source": [
    "Średnia liczba zdarzeń na godzinę:"
   ]
  },
  {
   "cell_type": "code",
   "execution_count": 42,
   "metadata": {},
   "outputs": [
    {
     "data": {
      "text/plain": [
       "Timestamp('2023-12-29 11:53:15.533704192')"
      ]
     },
     "execution_count": 42,
     "metadata": {},
     "output_type": "execute_result"
    }
   ],
   "source": [
    "session_data[\"time\"].mean()"
   ]
  },
  {
   "cell_type": "markdown",
   "metadata": {},
   "source": [
    "#### Atrybut user_id\n",
    "Ilość nulli - ok. 5,07%\n"
   ]
  },
  {
   "cell_type": "markdown",
   "metadata": {},
   "source": [
    "Rozkład:"
   ]
  },
  {
   "cell_type": "code",
   "execution_count": 43,
   "metadata": {},
   "outputs": [
    {
     "data": {
      "image/png": "[encoded data removed]",
      "text/plain": [
       "<Figure size 500x500 with 1 Axes>"
      ]
     },
     "metadata": {},
     "output_type": "display_data"
    }
   ],
   "source": [
    "user_hist = sns.displot(session_data, x=\"user_id\")\n",
    "user_hist.set(xlabel=\"ID użytkownika\", ylabel=\"Liczba\")\n",
    "plt.show()"
   ]
  },
  {
   "cell_type": "markdown",
   "metadata": {},
   "source": [
    "#### Atrybut event_type\n",
    "Ilość nulli - ok. 5,09%\n"
   ]
  },
  {
   "cell_type": "markdown",
   "metadata": {},
   "source": [
    "Rozkład:"
   ]
  },
  {
   "cell_type": "code",
   "execution_count": 44,
   "metadata": {},
   "outputs": [
    {
     "data": {
      "image/png": "[encoded data removed]",
      "text/plain": [
       "<Figure size 500x500 with 1 Axes>"
      ]
     },
     "metadata": {},
     "output_type": "display_data"
    }
   ],
   "source": [
    "user_hist = sns.displot(session_data, x=\"event_type\", shrink=.5)\n",
    "user_hist.set(xlabel=\"Event type\")\n",
    "plt.show()"
   ]
  },
  {
   "cell_type": "markdown",
   "metadata": {},
   "source": [
    "#### Macierz informacji wzajemnej\n",
    "Macierz informacji wzajemnej dla typu eventu - zakodowany wskaźnikowo, id użytkownika i godziny wziętej z atrybutu timestamp  "
   ]
  },
  {
   "cell_type": "code",
   "execution_count": 45,
   "metadata": {},
   "outputs": [
    {
     "name": "stderr",
     "output_type": "stream",
     "text": [
      "/home/pawel/anaconda3/envs/ium/lib/python3.11/site-packages/sklearn/utils/validation.py:1183: DataConversionWarning: A column-vector y was passed when a 1d array was expected. Please change the shape of y to (n_samples, ), for example using ravel().\n",
      "  y = column_or_1d(y, warn=True)\n",
      "/home/pawel/anaconda3/envs/ium/lib/python3.11/site-packages/sklearn/utils/validation.py:1183: DataConversionWarning: A column-vector y was passed when a 1d array was expected. Please change the shape of y to (n_samples, ), for example using ravel().\n",
      "  y = column_or_1d(y, warn=True)\n",
      "/home/pawel/anaconda3/envs/ium/lib/python3.11/site-packages/sklearn/utils/validation.py:1183: DataConversionWarning: A column-vector y was passed when a 1d array was expected. Please change the shape of y to (n_samples, ), for example using ravel().\n",
      "  y = column_or_1d(y, warn=True)\n",
      "/home/pawel/anaconda3/envs/ium/lib/python3.11/site-packages/sklearn/utils/validation.py:1183: DataConversionWarning: A column-vector y was passed when a 1d array was expected. Please change the shape of y to (n_samples, ), for example using ravel().\n",
      "  y = column_or_1d(y, warn=True)\n",
      "/home/pawel/anaconda3/envs/ium/lib/python3.11/site-packages/sklearn/utils/validation.py:1183: DataConversionWarning: A column-vector y was passed when a 1d array was expected. Please change the shape of y to (n_samples, ), for example using ravel().\n",
      "  y = column_or_1d(y, warn=True)\n",
      "/home/pawel/anaconda3/envs/ium/lib/python3.11/site-packages/sklearn/utils/validation.py:1183: DataConversionWarning: A column-vector y was passed when a 1d array was expected. Please change the shape of y to (n_samples, ), for example using ravel().\n",
      "  y = column_or_1d(y, warn=True)\n",
      "/home/pawel/anaconda3/envs/ium/lib/python3.11/site-packages/sklearn/utils/validation.py:1183: DataConversionWarning: A column-vector y was passed when a 1d array was expected. Please change the shape of y to (n_samples, ), for example using ravel().\n",
      "  y = column_or_1d(y, warn=True)\n",
      "/home/pawel/anaconda3/envs/ium/lib/python3.11/site-packages/sklearn/utils/validation.py:1183: DataConversionWarning: A column-vector y was passed when a 1d array was expected. Please change the shape of y to (n_samples, ), for example using ravel().\n",
      "  y = column_or_1d(y, warn=True)\n",
      "/home/pawel/anaconda3/envs/ium/lib/python3.11/site-packages/sklearn/utils/validation.py:1183: DataConversionWarning: A column-vector y was passed when a 1d array was expected. Please change the shape of y to (n_samples, ), for example using ravel().\n",
      "  y = column_or_1d(y, warn=True)\n",
      "/home/pawel/anaconda3/envs/ium/lib/python3.11/site-packages/sklearn/utils/validation.py:1183: DataConversionWarning: A column-vector y was passed when a 1d array was expected. Please change the shape of y to (n_samples, ), for example using ravel().\n",
      "  y = column_or_1d(y, warn=True)\n"
     ]
    },
    {
     "data": {
      "image/png": "[encoded data removed]",
      "text/plain": [
       "<Figure size 640x480 with 2 Axes>"
      ]
     },
     "metadata": {},
     "output_type": "display_data"
    },
    {
     "name": "stdout",
     "output_type": "stream",
     "text": [
      "             time   user_id      like      play      skip\n",
      "time     1.000000  0.059511  0.000000  0.001550  0.000000\n",
      "user_id  0.059511  1.000000  0.000626  0.004531  0.004154\n",
      "like     0.000000  0.000626  1.000000  0.107782  0.026232\n",
      "play     0.001550  0.004531  0.107782  1.000000  0.149192\n",
      "skip     0.000000  0.004154  0.026232  0.149192  1.000000\n"
     ]
    }
   ],
   "source": [
    "from sklearn.feature_selection import mutual_info_classif\n",
    "sessions_reduced = session_data[[\"time\", \"event_type\", \"user_id\"]].copy()\n",
    "sessions_reduced[\"time\"] = sessions_reduced[\"time\"].dt.hour\n",
    "dummy_events = pd.get_dummies(data=sessions_reduced[\"event_type\"], drop_first=True, dtype=float)\n",
    "sessions_reduced = pd.concat([sessions_reduced, dummy_events], axis=1)\n",
    "sessions_reduced.drop(labels=['event_type'], axis=1, inplace=True)\n",
    "\n",
    "sessions_mut_info = sessions_reduced.corr(method=lambda a, b: mutual_info_classif(a.reshape(-1, 1), b.reshape(-1, 1))[0])\n",
    "sessions_heatmap = sns.heatmap(sessions_mut_info, cmap=\"crest\")\n",
    "sessions_heatmap.set(title=\"Mutual information between event_type, user_id and hour\")\n",
    "plt.show()\n",
    "print(sessions_mut_info)"
   ]
  },
  {
   "cell_type": "markdown",
   "metadata": {},
   "source": [
    "#### Zbiór track_storage\n",
    "Ogólny przegląd zbioru"
   ]
  },
  {
   "cell_type": "code",
   "execution_count": 46,
   "metadata": {},
   "outputs": [
    {
     "data": {
      "text/html": [
       "<div>\n",
       "<style scoped>\n",
       "    .dataframe tbody tr th:only-of-type {\n",
       "        vertical-align: middle;\n",
       "    }\n",
       "\n",
       "    .dataframe tbody tr th {\n",
       "        vertical-align: top;\n",
       "    }\n",
       "\n",
       "    .dataframe thead th {\n",
       "        text-align: right;\n",
       "    }\n",
       "</style>\n",
       "<table border=\"1\" class=\"dataframe\">\n",
       "  <thead>\n",
       "    <tr style=\"text-align: right;\">\n",
       "      <th></th>\n",
       "      <th>track_id</th>\n",
       "      <th>storage_class</th>\n",
       "      <th>daily_cost</th>\n",
       "    </tr>\n",
       "  </thead>\n",
       "  <tbody>\n",
       "    <tr>\n",
       "      <th>0</th>\n",
       "      <td>0RNxWy0PC3AyH4ThH3aGK6</td>\n",
       "      <td>slow</td>\n",
       "      <td>0.010073</td>\n",
       "    </tr>\n",
       "    <tr>\n",
       "      <th>1</th>\n",
       "      <td>2W889aLIKxULEefrleFBFI</td>\n",
       "      <td>slow</td>\n",
       "      <td>0.009900</td>\n",
       "    </tr>\n",
       "    <tr>\n",
       "      <th>2</th>\n",
       "      <td>4Pnzw1nLOpDNV6MKI5ueIR</td>\n",
       "      <td>slow</td>\n",
       "      <td>0.009950</td>\n",
       "    </tr>\n",
       "    <tr>\n",
       "      <th>3</th>\n",
       "      <td>7GLmfKOe5BfOXk7334DoKt</td>\n",
       "      <td>slow</td>\n",
       "      <td>0.008150</td>\n",
       "    </tr>\n",
       "    <tr>\n",
       "      <th>4</th>\n",
       "      <td>6kD1SNGPkfX9LwaGd1FG92</td>\n",
       "      <td>slow</td>\n",
       "      <td>0.009309</td>\n",
       "    </tr>\n",
       "  </tbody>\n",
       "</table>\n",
       "</div>"
      ],
      "text/plain": [
       "                 track_id storage_class  daily_cost\n",
       "0  0RNxWy0PC3AyH4ThH3aGK6          slow    0.010073\n",
       "1  2W889aLIKxULEefrleFBFI          slow    0.009900\n",
       "2  4Pnzw1nLOpDNV6MKI5ueIR          slow    0.009950\n",
       "3  7GLmfKOe5BfOXk7334DoKt          slow    0.008150\n",
       "4  6kD1SNGPkfX9LwaGd1FG92          slow    0.009309"
      ]
     },
     "execution_count": 46,
     "metadata": {},
     "output_type": "execute_result"
    }
   ],
   "source": [
    "track_data = pd.read_json(DATA_PATH2, lines=True)\n",
    "track_data.head()"
   ]
  },
  {
   "cell_type": "code",
   "execution_count": 47,
   "metadata": {},
   "outputs": [
    {
     "data": {
      "text/html": [
       "<div>\n",
       "<style scoped>\n",
       "    .dataframe tbody tr th:only-of-type {\n",
       "        vertical-align: middle;\n",
       "    }\n",
       "\n",
       "    .dataframe tbody tr th {\n",
       "        vertical-align: top;\n",
       "    }\n",
       "\n",
       "    .dataframe thead th {\n",
       "        text-align: right;\n",
       "    }\n",
       "</style>\n",
       "<table border=\"1\" class=\"dataframe\">\n",
       "  <thead>\n",
       "    <tr style=\"text-align: right;\">\n",
       "      <th></th>\n",
       "      <th>track_id</th>\n",
       "      <th>storage_class</th>\n",
       "      <th>daily_cost</th>\n",
       "    </tr>\n",
       "  </thead>\n",
       "  <tbody>\n",
       "    <tr>\n",
       "      <th>count</th>\n",
       "      <td>22412</td>\n",
       "      <td>22412</td>\n",
       "      <td>22412.000000</td>\n",
       "    </tr>\n",
       "    <tr>\n",
       "      <th>unique</th>\n",
       "      <td>22412</td>\n",
       "      <td>3</td>\n",
       "      <td>NaN</td>\n",
       "    </tr>\n",
       "    <tr>\n",
       "      <th>top</th>\n",
       "      <td>0RNxWy0PC3AyH4ThH3aGK6</td>\n",
       "      <td>slow</td>\n",
       "      <td>NaN</td>\n",
       "    </tr>\n",
       "    <tr>\n",
       "      <th>freq</th>\n",
       "      <td>1</td>\n",
       "      <td>19044</td>\n",
       "      <td>NaN</td>\n",
       "    </tr>\n",
       "    <tr>\n",
       "      <th>mean</th>\n",
       "      <td>NaN</td>\n",
       "      <td>NaN</td>\n",
       "      <td>0.013217</td>\n",
       "    </tr>\n",
       "    <tr>\n",
       "      <th>std</th>\n",
       "      <td>NaN</td>\n",
       "      <td>NaN</td>\n",
       "      <td>0.005989</td>\n",
       "    </tr>\n",
       "    <tr>\n",
       "      <th>min</th>\n",
       "      <td>NaN</td>\n",
       "      <td>NaN</td>\n",
       "      <td>0.001531</td>\n",
       "    </tr>\n",
       "    <tr>\n",
       "      <th>25%</th>\n",
       "      <td>NaN</td>\n",
       "      <td>NaN</td>\n",
       "      <td>0.009913</td>\n",
       "    </tr>\n",
       "    <tr>\n",
       "      <th>50%</th>\n",
       "      <td>NaN</td>\n",
       "      <td>NaN</td>\n",
       "      <td>0.011666</td>\n",
       "    </tr>\n",
       "    <tr>\n",
       "      <th>75%</th>\n",
       "      <td>NaN</td>\n",
       "      <td>NaN</td>\n",
       "      <td>0.014652</td>\n",
       "    </tr>\n",
       "    <tr>\n",
       "      <th>max</th>\n",
       "      <td>NaN</td>\n",
       "      <td>NaN</td>\n",
       "      <td>0.206013</td>\n",
       "    </tr>\n",
       "  </tbody>\n",
       "</table>\n",
       "</div>"
      ],
      "text/plain": [
       "                      track_id storage_class    daily_cost\n",
       "count                    22412         22412  22412.000000\n",
       "unique                   22412             3           NaN\n",
       "top     0RNxWy0PC3AyH4ThH3aGK6          slow           NaN\n",
       "freq                         1         19044           NaN\n",
       "mean                       NaN           NaN      0.013217\n",
       "std                        NaN           NaN      0.005989\n",
       "min                        NaN           NaN      0.001531\n",
       "25%                        NaN           NaN      0.009913\n",
       "50%                        NaN           NaN      0.011666\n",
       "75%                        NaN           NaN      0.014652\n",
       "max                        NaN           NaN      0.206013"
      ]
     },
     "execution_count": 47,
     "metadata": {},
     "output_type": "execute_result"
    }
   ],
   "source": [
    "track_data.describe(include=\"all\")"
   ]
  },
  {
   "cell_type": "markdown",
   "metadata": {},
   "source": [
    "#### Procent wartości null w zbiorze track_storage"
   ]
  },
  {
   "cell_type": "code",
   "execution_count": 48,
   "metadata": {},
   "outputs": [
    {
     "data": {
      "text/plain": [
       "track_id         0.0\n",
       "storage_class    0.0\n",
       "daily_cost       0.0\n",
       "dtype: float64"
      ]
     },
     "execution_count": 48,
     "metadata": {},
     "output_type": "execute_result"
    }
   ],
   "source": [
    "track_data.isnull().sum() / 100 * len(track_data)"
   ]
  },
  {
   "cell_type": "markdown",
   "metadata": {},
   "source": [
    "#### Atrybuty w zbiorze track_storage:\n",
    "* track_id - id utworu, string, sekwencja\n",
    "* storage_class - cache, w którym przechowywany jest utwór, string, atrybut dyskretny porządkowy, wartości - [slow, medium, fast]\n",
    "* daily_cost - dzienny koszt przechowywania utworu na w danym poziomie cache'u, float, atrybut ciągły "
   ]
  },
  {
   "cell_type": "markdown",
   "metadata": {},
   "source": [
    "#### Atrybut storage_class"
   ]
  },
  {
   "cell_type": "markdown",
   "metadata": {},
   "source": [
    "Rozkład:"
   ]
  },
  {
   "cell_type": "code",
   "execution_count": 49,
   "metadata": {},
   "outputs": [
    {
     "data": {
      "text/plain": [
       "storage_class\n",
       "slow      19044\n",
       "medium     3346\n",
       "fast         22\n",
       "Name: count, dtype: int64"
      ]
     },
     "execution_count": 49,
     "metadata": {},
     "output_type": "execute_result"
    }
   ],
   "source": [
    "track_data[\"storage_class\"].value_counts()"
   ]
  },
  {
   "cell_type": "code",
   "execution_count": 50,
   "metadata": {},
   "outputs": [
    {
     "data": {
      "image/png": "[encoded data removed]",
      "text/plain": [
       "<Figure size 640x480 with 1 Axes>"
      ]
     },
     "metadata": {},
     "output_type": "display_data"
    }
   ],
   "source": [
    "plt.title(\"Ilość utworów każdego poziomu cache\")\n",
    "plt.xlabel(\"Poziomy cache\")\n",
    "plt.ylabel(\"Ilość\")\n",
    "plt.bar(track_data[\"storage_class\"].unique(), track_data[\"storage_class\"].value_counts(), align='center')\n",
    "plt.show()"
   ]
  },
  {
   "cell_type": "markdown",
   "metadata": {},
   "source": [
    "#### Atrybut daily_cost"
   ]
  },
  {
   "cell_type": "markdown",
   "metadata": {},
   "source": [
    "Średnia wartość atrybutu:"
   ]
  },
  {
   "cell_type": "code",
   "execution_count": 51,
   "metadata": {},
   "outputs": [
    {
     "data": {
      "text/plain": [
       "0.013217481893628124"
      ]
     },
     "execution_count": 51,
     "metadata": {},
     "output_type": "execute_result"
    }
   ],
   "source": [
    "track_data[\"daily_cost\"].mean()"
   ]
  },
  {
   "cell_type": "markdown",
   "metadata": {},
   "source": [
    "Rozkład:"
   ]
  },
  {
   "cell_type": "code",
   "execution_count": 52,
   "metadata": {},
   "outputs": [
    {
     "data": {
      "image/png": "[encoded data removed]",
      "text/plain": [
       "<Figure size 500x500 with 1 Axes>"
      ]
     },
     "metadata": {},
     "output_type": "display_data"
    }
   ],
   "source": [
    "cost_hist = sns.displot(track_data, x=\"daily_cost\")\n",
    "cost_hist.set(xlabel=\"Daily cost\")\n",
    "plt.show()"
   ]
  },
  {
   "cell_type": "code",
   "execution_count": 53,
   "metadata": {},
   "outputs": [
    {
     "data": {
      "image/png": "[encoded data removed]",
      "text/plain": [
       "<Figure size 640x480 with 1 Axes>"
      ]
     },
     "metadata": {},
     "output_type": "display_data"
    }
   ],
   "source": [
    "cost_violin = sns.violinplot(track_data[\"daily_cost\"])\n",
    "cost_violin.set(ylabel= \"Daily cost\")\n",
    "plt.show()"
   ]
  },
  {
   "cell_type": "markdown",
   "metadata": {},
   "source": [
    "#### Macierz korelacji\n",
    "Do obliczenia wykorzystaliśmy metodę Spearmana - można jej używać przy atrybutach porządkowych. Obliczyliśmy korelację między atrybutami daily_cost i storage_class - nie ma sensu liczyć korelacji z atrybutem track_id."
   ]
  },
  {
   "cell_type": "code",
   "execution_count": 54,
   "metadata": {},
   "outputs": [
    {
     "data": {
      "image/png": "[encoded data removed]",
      "text/plain": [
       "<Figure size 640x480 with 2 Axes>"
      ]
     },
     "metadata": {},
     "output_type": "display_data"
    },
    {
     "name": "stdout",
     "output_type": "stream",
     "text": [
      "                   daily_cost  storage_class_num\n",
      "daily_cost           1.000000           0.572276\n",
      "storage_class_num    0.572276           1.000000\n"
     ]
    }
   ],
   "source": [
    "track_data[\"storage_class_num\"], uniques = pd.factorize(track_data[\"storage_class\"])\n",
    "track_corr_matrix = track_data[track_data.columns[2:]].corr(method=\"spearman\")\n",
    "track_corr_heatmap = sns.heatmap(track_corr_matrix, cmap=\"crest\")\n",
    "track_corr_heatmap.set(title=\"Correlation between daily_cost and storage_class\")\n",
    "plt.show()\n",
    "print(track_corr_matrix)"
   ]
  },
  {
   "cell_type": "markdown",
   "metadata": {},
   "source": [
    "#### Zbiór tracks\n",
    "Ogólny przegląd zbioru"
   ]
  },
  {
   "cell_type": "code",
   "execution_count": 55,
   "metadata": {},
   "outputs": [
    {
     "data": {
      "text/html": [
       "<div>\n",
       "<style scoped>\n",
       "    .dataframe tbody tr th:only-of-type {\n",
       "        vertical-align: middle;\n",
       "    }\n",
       "\n",
       "    .dataframe tbody tr th {\n",
       "        vertical-align: top;\n",
       "    }\n",
       "\n",
       "    .dataframe thead th {\n",
       "        text-align: right;\n",
       "    }\n",
       "</style>\n",
       "<table border=\"1\" class=\"dataframe\">\n",
       "  <thead>\n",
       "    <tr style=\"text-align: right;\">\n",
       "      <th></th>\n",
       "      <th>id</th>\n",
       "      <th>name</th>\n",
       "      <th>popularity</th>\n",
       "      <th>duration_ms</th>\n",
       "      <th>explicit</th>\n",
       "      <th>id_artist</th>\n",
       "      <th>release_date</th>\n",
       "      <th>danceability</th>\n",
       "      <th>energy</th>\n",
       "      <th>key</th>\n",
       "      <th>loudness</th>\n",
       "      <th>speechiness</th>\n",
       "      <th>acousticness</th>\n",
       "      <th>instrumentalness</th>\n",
       "      <th>liveness</th>\n",
       "      <th>valence</th>\n",
       "      <th>tempo</th>\n",
       "    </tr>\n",
       "  </thead>\n",
       "  <tbody>\n",
       "    <tr>\n",
       "      <th>0</th>\n",
       "      <td>0RNxWy0PC3AyH4ThH3aGK6</td>\n",
       "      <td>Mack the Knife</td>\n",
       "      <td>55</td>\n",
       "      <td>201467</td>\n",
       "      <td>0</td>\n",
       "      <td>19eLuQmk9aCobbVDHc6eek</td>\n",
       "      <td>1929</td>\n",
       "      <td>0.673</td>\n",
       "      <td>0.3770</td>\n",
       "      <td>0</td>\n",
       "      <td>-14.141</td>\n",
       "      <td>0.0697</td>\n",
       "      <td>0.586</td>\n",
       "      <td>0.000000</td>\n",
       "      <td>0.332</td>\n",
       "      <td>0.713</td>\n",
       "      <td>88.973</td>\n",
       "    </tr>\n",
       "    <tr>\n",
       "      <th>1</th>\n",
       "      <td>2W889aLIKxULEefrleFBFI</td>\n",
       "      <td>Someone to Watch Over Me</td>\n",
       "      <td>54</td>\n",
       "      <td>198000</td>\n",
       "      <td>0</td>\n",
       "      <td>1Mxqyy3pSjf8kZZL4QVxS0</td>\n",
       "      <td>1943</td>\n",
       "      <td>0.204</td>\n",
       "      <td>0.1510</td>\n",
       "      <td>2</td>\n",
       "      <td>-17.842</td>\n",
       "      <td>0.0418</td>\n",
       "      <td>0.947</td>\n",
       "      <td>0.000009</td>\n",
       "      <td>0.321</td>\n",
       "      <td>0.134</td>\n",
       "      <td>91.783</td>\n",
       "    </tr>\n",
       "    <tr>\n",
       "      <th>2</th>\n",
       "      <td>4Pnzw1nLOpDNV6MKI5ueIR</td>\n",
       "      <td>Nancy (With the Laughing Face) - 78rpm Version</td>\n",
       "      <td>55</td>\n",
       "      <td>199000</td>\n",
       "      <td>0</td>\n",
       "      <td>1Mxqyy3pSjf8kZZL4QVxS0</td>\n",
       "      <td>1944</td>\n",
       "      <td>0.295</td>\n",
       "      <td>0.0826</td>\n",
       "      <td>1</td>\n",
       "      <td>-19.569</td>\n",
       "      <td>0.0367</td>\n",
       "      <td>0.984</td>\n",
       "      <td>0.000358</td>\n",
       "      <td>0.156</td>\n",
       "      <td>0.169</td>\n",
       "      <td>128.600</td>\n",
       "    </tr>\n",
       "    <tr>\n",
       "      <th>3</th>\n",
       "      <td>7GLmfKOe5BfOXk7334DoKt</td>\n",
       "      <td>Saturday Night (Is The Loneliest Night In The ...</td>\n",
       "      <td>54</td>\n",
       "      <td>163000</td>\n",
       "      <td>0</td>\n",
       "      <td>1Mxqyy3pSjf8kZZL4QVxS0</td>\n",
       "      <td>1944</td>\n",
       "      <td>0.561</td>\n",
       "      <td>0.3350</td>\n",
       "      <td>9</td>\n",
       "      <td>-11.093</td>\n",
       "      <td>0.0499</td>\n",
       "      <td>0.840</td>\n",
       "      <td>0.000002</td>\n",
       "      <td>0.788</td>\n",
       "      <td>0.590</td>\n",
       "      <td>126.974</td>\n",
       "    </tr>\n",
       "    <tr>\n",
       "      <th>4</th>\n",
       "      <td>6kD1SNGPkfX9LwaGd1FG92</td>\n",
       "      <td>Put Your Dreams Away (For Another Day)</td>\n",
       "      <td>53</td>\n",
       "      <td>186173</td>\n",
       "      <td>0</td>\n",
       "      <td>1Mxqyy3pSjf8kZZL4QVxS0</td>\n",
       "      <td>1944</td>\n",
       "      <td>0.197</td>\n",
       "      <td>0.0546</td>\n",
       "      <td>1</td>\n",
       "      <td>-22.411</td>\n",
       "      <td>0.0346</td>\n",
       "      <td>0.950</td>\n",
       "      <td>0.276000</td>\n",
       "      <td>0.152</td>\n",
       "      <td>0.100</td>\n",
       "      <td>90.150</td>\n",
       "    </tr>\n",
       "  </tbody>\n",
       "</table>\n",
       "</div>"
      ],
      "text/plain": [
       "                       id                                               name  \\\n",
       "0  0RNxWy0PC3AyH4ThH3aGK6                                     Mack the Knife   \n",
       "1  2W889aLIKxULEefrleFBFI                           Someone to Watch Over Me   \n",
       "2  4Pnzw1nLOpDNV6MKI5ueIR     Nancy (With the Laughing Face) - 78rpm Version   \n",
       "3  7GLmfKOe5BfOXk7334DoKt  Saturday Night (Is The Loneliest Night In The ...   \n",
       "4  6kD1SNGPkfX9LwaGd1FG92             Put Your Dreams Away (For Another Day)   \n",
       "\n",
       "   popularity  duration_ms  explicit               id_artist release_date  \\\n",
       "0          55       201467         0  19eLuQmk9aCobbVDHc6eek         1929   \n",
       "1          54       198000         0  1Mxqyy3pSjf8kZZL4QVxS0         1943   \n",
       "2          55       199000         0  1Mxqyy3pSjf8kZZL4QVxS0         1944   \n",
       "3          54       163000         0  1Mxqyy3pSjf8kZZL4QVxS0         1944   \n",
       "4          53       186173         0  1Mxqyy3pSjf8kZZL4QVxS0         1944   \n",
       "\n",
       "   danceability  energy  key  loudness  speechiness  acousticness  \\\n",
       "0         0.673  0.3770    0   -14.141       0.0697         0.586   \n",
       "1         0.204  0.1510    2   -17.842       0.0418         0.947   \n",
       "2         0.295  0.0826    1   -19.569       0.0367         0.984   \n",
       "3         0.561  0.3350    9   -11.093       0.0499         0.840   \n",
       "4         0.197  0.0546    1   -22.411       0.0346         0.950   \n",
       "\n",
       "   instrumentalness  liveness  valence    tempo  \n",
       "0          0.000000     0.332    0.713   88.973  \n",
       "1          0.000009     0.321    0.134   91.783  \n",
       "2          0.000358     0.156    0.169  128.600  \n",
       "3          0.000002     0.788    0.590  126.974  \n",
       "4          0.276000     0.152    0.100   90.150  "
      ]
     },
     "execution_count": 55,
     "metadata": {},
     "output_type": "execute_result"
    }
   ],
   "source": [
    "tracks = pd.DataFrame(pd.read_json(DATA_PATH3, lines=True))\n",
    "tracks.head()"
   ]
  },
  {
   "cell_type": "code",
   "execution_count": 56,
   "metadata": {},
   "outputs": [
    {
     "data": {
      "text/html": [
       "<div>\n",
       "<style scoped>\n",
       "    .dataframe tbody tr th:only-of-type {\n",
       "        vertical-align: middle;\n",
       "    }\n",
       "\n",
       "    .dataframe tbody tr th {\n",
       "        vertical-align: top;\n",
       "    }\n",
       "\n",
       "    .dataframe thead th {\n",
       "        text-align: right;\n",
       "    }\n",
       "</style>\n",
       "<table border=\"1\" class=\"dataframe\">\n",
       "  <thead>\n",
       "    <tr style=\"text-align: right;\">\n",
       "      <th></th>\n",
       "      <th>id</th>\n",
       "      <th>name</th>\n",
       "      <th>popularity</th>\n",
       "      <th>duration_ms</th>\n",
       "      <th>explicit</th>\n",
       "      <th>id_artist</th>\n",
       "      <th>release_date</th>\n",
       "      <th>danceability</th>\n",
       "      <th>energy</th>\n",
       "      <th>key</th>\n",
       "      <th>loudness</th>\n",
       "      <th>speechiness</th>\n",
       "      <th>acousticness</th>\n",
       "      <th>instrumentalness</th>\n",
       "      <th>liveness</th>\n",
       "      <th>valence</th>\n",
       "      <th>tempo</th>\n",
       "    </tr>\n",
       "  </thead>\n",
       "  <tbody>\n",
       "    <tr>\n",
       "      <th>count</th>\n",
       "      <td>22412</td>\n",
       "      <td>22412</td>\n",
       "      <td>22412.000000</td>\n",
       "      <td>2.241200e+04</td>\n",
       "      <td>22412.000000</td>\n",
       "      <td>22412</td>\n",
       "      <td>22412</td>\n",
       "      <td>22412.000000</td>\n",
       "      <td>22412.000000</td>\n",
       "      <td>22412.000000</td>\n",
       "      <td>22412.000000</td>\n",
       "      <td>22412.000000</td>\n",
       "      <td>22412.000000</td>\n",
       "      <td>22412.000000</td>\n",
       "      <td>22412.000000</td>\n",
       "      <td>22412.000000</td>\n",
       "      <td>22412.000000</td>\n",
       "    </tr>\n",
       "    <tr>\n",
       "      <th>unique</th>\n",
       "      <td>22412</td>\n",
       "      <td>17727</td>\n",
       "      <td>NaN</td>\n",
       "      <td>NaN</td>\n",
       "      <td>NaN</td>\n",
       "      <td>1418</td>\n",
       "      <td>3907</td>\n",
       "      <td>NaN</td>\n",
       "      <td>NaN</td>\n",
       "      <td>NaN</td>\n",
       "      <td>NaN</td>\n",
       "      <td>NaN</td>\n",
       "      <td>NaN</td>\n",
       "      <td>NaN</td>\n",
       "      <td>NaN</td>\n",
       "      <td>NaN</td>\n",
       "      <td>NaN</td>\n",
       "    </tr>\n",
       "    <tr>\n",
       "      <th>top</th>\n",
       "      <td>0RNxWy0PC3AyH4ThH3aGK6</td>\n",
       "      <td>Home</td>\n",
       "      <td>NaN</td>\n",
       "      <td>NaN</td>\n",
       "      <td>NaN</td>\n",
       "      <td>06HL4z0CvFAxyc27GXpf02</td>\n",
       "      <td>2013-01-01</td>\n",
       "      <td>NaN</td>\n",
       "      <td>NaN</td>\n",
       "      <td>NaN</td>\n",
       "      <td>NaN</td>\n",
       "      <td>NaN</td>\n",
       "      <td>NaN</td>\n",
       "      <td>NaN</td>\n",
       "      <td>NaN</td>\n",
       "      <td>NaN</td>\n",
       "      <td>NaN</td>\n",
       "    </tr>\n",
       "    <tr>\n",
       "      <th>freq</th>\n",
       "      <td>1</td>\n",
       "      <td>11</td>\n",
       "      <td>NaN</td>\n",
       "      <td>NaN</td>\n",
       "      <td>NaN</td>\n",
       "      <td>306</td>\n",
       "      <td>268</td>\n",
       "      <td>NaN</td>\n",
       "      <td>NaN</td>\n",
       "      <td>NaN</td>\n",
       "      <td>NaN</td>\n",
       "      <td>NaN</td>\n",
       "      <td>NaN</td>\n",
       "      <td>NaN</td>\n",
       "      <td>NaN</td>\n",
       "      <td>NaN</td>\n",
       "      <td>NaN</td>\n",
       "    </tr>\n",
       "    <tr>\n",
       "      <th>mean</th>\n",
       "      <td>NaN</td>\n",
       "      <td>NaN</td>\n",
       "      <td>61.375602</td>\n",
       "      <td>2.301383e+05</td>\n",
       "      <td>0.166607</td>\n",
       "      <td>NaN</td>\n",
       "      <td>NaN</td>\n",
       "      <td>0.599096</td>\n",
       "      <td>0.648017</td>\n",
       "      <td>5.278824</td>\n",
       "      <td>-7.196227</td>\n",
       "      <td>0.082914</td>\n",
       "      <td>0.267758</td>\n",
       "      <td>0.040220</td>\n",
       "      <td>0.193141</td>\n",
       "      <td>0.518000</td>\n",
       "      <td>121.911945</td>\n",
       "    </tr>\n",
       "    <tr>\n",
       "      <th>std</th>\n",
       "      <td>NaN</td>\n",
       "      <td>NaN</td>\n",
       "      <td>8.048246</td>\n",
       "      <td>7.209562e+04</td>\n",
       "      <td>0.372633</td>\n",
       "      <td>NaN</td>\n",
       "      <td>NaN</td>\n",
       "      <td>0.158259</td>\n",
       "      <td>0.209577</td>\n",
       "      <td>3.558813</td>\n",
       "      <td>3.738098</td>\n",
       "      <td>0.089317</td>\n",
       "      <td>0.276111</td>\n",
       "      <td>0.152828</td>\n",
       "      <td>0.167943</td>\n",
       "      <td>0.244477</td>\n",
       "      <td>29.615254</td>\n",
       "    </tr>\n",
       "    <tr>\n",
       "      <th>min</th>\n",
       "      <td>NaN</td>\n",
       "      <td>NaN</td>\n",
       "      <td>51.000000</td>\n",
       "      <td>3.062200e+04</td>\n",
       "      <td>0.000000</td>\n",
       "      <td>NaN</td>\n",
       "      <td>NaN</td>\n",
       "      <td>0.000000</td>\n",
       "      <td>0.000103</td>\n",
       "      <td>0.000000</td>\n",
       "      <td>-44.410000</td>\n",
       "      <td>0.000000</td>\n",
       "      <td>0.000001</td>\n",
       "      <td>0.000000</td>\n",
       "      <td>0.012000</td>\n",
       "      <td>0.000000</td>\n",
       "      <td>0.000000</td>\n",
       "    </tr>\n",
       "    <tr>\n",
       "      <th>25%</th>\n",
       "      <td>NaN</td>\n",
       "      <td>NaN</td>\n",
       "      <td>55.000000</td>\n",
       "      <td>1.914930e+05</td>\n",
       "      <td>0.000000</td>\n",
       "      <td>NaN</td>\n",
       "      <td>NaN</td>\n",
       "      <td>0.495000</td>\n",
       "      <td>0.508000</td>\n",
       "      <td>2.000000</td>\n",
       "      <td>-8.614500</td>\n",
       "      <td>0.033900</td>\n",
       "      <td>0.029800</td>\n",
       "      <td>0.000000</td>\n",
       "      <td>0.094400</td>\n",
       "      <td>0.325000</td>\n",
       "      <td>97.988000</td>\n",
       "    </tr>\n",
       "    <tr>\n",
       "      <th>50%</th>\n",
       "      <td>NaN</td>\n",
       "      <td>NaN</td>\n",
       "      <td>60.000000</td>\n",
       "      <td>2.206670e+05</td>\n",
       "      <td>0.000000</td>\n",
       "      <td>NaN</td>\n",
       "      <td>NaN</td>\n",
       "      <td>0.608000</td>\n",
       "      <td>0.672000</td>\n",
       "      <td>5.000000</td>\n",
       "      <td>-6.393000</td>\n",
       "      <td>0.046300</td>\n",
       "      <td>0.165000</td>\n",
       "      <td>0.000003</td>\n",
       "      <td>0.125000</td>\n",
       "      <td>0.512000</td>\n",
       "      <td>120.041000</td>\n",
       "    </tr>\n",
       "    <tr>\n",
       "      <th>75%</th>\n",
       "      <td>NaN</td>\n",
       "      <td>NaN</td>\n",
       "      <td>67.000000</td>\n",
       "      <td>2.562400e+05</td>\n",
       "      <td>0.000000</td>\n",
       "      <td>NaN</td>\n",
       "      <td>NaN</td>\n",
       "      <td>0.715000</td>\n",
       "      <td>0.816000</td>\n",
       "      <td>8.000000</td>\n",
       "      <td>-4.850000</td>\n",
       "      <td>0.086000</td>\n",
       "      <td>0.455000</td>\n",
       "      <td>0.000523</td>\n",
       "      <td>0.240000</td>\n",
       "      <td>0.713000</td>\n",
       "      <td>140.078000</td>\n",
       "    </tr>\n",
       "    <tr>\n",
       "      <th>max</th>\n",
       "      <td>NaN</td>\n",
       "      <td>NaN</td>\n",
       "      <td>99.000000</td>\n",
       "      <td>4.120258e+06</td>\n",
       "      <td>1.000000</td>\n",
       "      <td>NaN</td>\n",
       "      <td>NaN</td>\n",
       "      <td>0.980000</td>\n",
       "      <td>0.999000</td>\n",
       "      <td>11.000000</td>\n",
       "      <td>0.642000</td>\n",
       "      <td>0.944000</td>\n",
       "      <td>0.996000</td>\n",
       "      <td>0.998000</td>\n",
       "      <td>0.997000</td>\n",
       "      <td>0.991000</td>\n",
       "      <td>220.099000</td>\n",
       "    </tr>\n",
       "  </tbody>\n",
       "</table>\n",
       "</div>"
      ],
      "text/plain": [
       "                            id   name    popularity   duration_ms  \\\n",
       "count                    22412  22412  22412.000000  2.241200e+04   \n",
       "unique                   22412  17727           NaN           NaN   \n",
       "top     0RNxWy0PC3AyH4ThH3aGK6   Home           NaN           NaN   \n",
       "freq                         1     11           NaN           NaN   \n",
       "mean                       NaN    NaN     61.375602  2.301383e+05   \n",
       "std                        NaN    NaN      8.048246  7.209562e+04   \n",
       "min                        NaN    NaN     51.000000  3.062200e+04   \n",
       "25%                        NaN    NaN     55.000000  1.914930e+05   \n",
       "50%                        NaN    NaN     60.000000  2.206670e+05   \n",
       "75%                        NaN    NaN     67.000000  2.562400e+05   \n",
       "max                        NaN    NaN     99.000000  4.120258e+06   \n",
       "\n",
       "            explicit               id_artist release_date  danceability  \\\n",
       "count   22412.000000                   22412        22412  22412.000000   \n",
       "unique           NaN                    1418         3907           NaN   \n",
       "top              NaN  06HL4z0CvFAxyc27GXpf02   2013-01-01           NaN   \n",
       "freq             NaN                     306          268           NaN   \n",
       "mean        0.166607                     NaN          NaN      0.599096   \n",
       "std         0.372633                     NaN          NaN      0.158259   \n",
       "min         0.000000                     NaN          NaN      0.000000   \n",
       "25%         0.000000                     NaN          NaN      0.495000   \n",
       "50%         0.000000                     NaN          NaN      0.608000   \n",
       "75%         0.000000                     NaN          NaN      0.715000   \n",
       "max         1.000000                     NaN          NaN      0.980000   \n",
       "\n",
       "              energy           key      loudness   speechiness  acousticness  \\\n",
       "count   22412.000000  22412.000000  22412.000000  22412.000000  22412.000000   \n",
       "unique           NaN           NaN           NaN           NaN           NaN   \n",
       "top              NaN           NaN           NaN           NaN           NaN   \n",
       "freq             NaN           NaN           NaN           NaN           NaN   \n",
       "mean        0.648017      5.278824     -7.196227      0.082914      0.267758   \n",
       "std         0.209577      3.558813      3.738098      0.089317      0.276111   \n",
       "min         0.000103      0.000000    -44.410000      0.000000      0.000001   \n",
       "25%         0.508000      2.000000     -8.614500      0.033900      0.029800   \n",
       "50%         0.672000      5.000000     -6.393000      0.046300      0.165000   \n",
       "75%         0.816000      8.000000     -4.850000      0.086000      0.455000   \n",
       "max         0.999000     11.000000      0.642000      0.944000      0.996000   \n",
       "\n",
       "        instrumentalness      liveness       valence         tempo  \n",
       "count       22412.000000  22412.000000  22412.000000  22412.000000  \n",
       "unique               NaN           NaN           NaN           NaN  \n",
       "top                  NaN           NaN           NaN           NaN  \n",
       "freq                 NaN           NaN           NaN           NaN  \n",
       "mean            0.040220      0.193141      0.518000    121.911945  \n",
       "std             0.152828      0.167943      0.244477     29.615254  \n",
       "min             0.000000      0.012000      0.000000      0.000000  \n",
       "25%             0.000000      0.094400      0.325000     97.988000  \n",
       "50%             0.000003      0.125000      0.512000    120.041000  \n",
       "75%             0.000523      0.240000      0.713000    140.078000  \n",
       "max             0.998000      0.997000      0.991000    220.099000  "
      ]
     },
     "execution_count": 56,
     "metadata": {},
     "output_type": "execute_result"
    }
   ],
   "source": [
    "tracks.describe(include=\"all\")"
   ]
  },
  {
   "cell_type": "markdown",
   "metadata": {},
   "source": [
    "#### Procent wartości null w zbiorze track_storage"
   ]
  },
  {
   "cell_type": "code",
   "execution_count": 57,
   "metadata": {},
   "outputs": [
    {
     "data": {
      "text/plain": [
       "id                  0.0\n",
       "name                0.0\n",
       "popularity          0.0\n",
       "duration_ms         0.0\n",
       "explicit            0.0\n",
       "id_artist           0.0\n",
       "release_date        0.0\n",
       "danceability        0.0\n",
       "energy              0.0\n",
       "key                 0.0\n",
       "loudness            0.0\n",
       "speechiness         0.0\n",
       "acousticness        0.0\n",
       "instrumentalness    0.0\n",
       "liveness            0.0\n",
       "valence             0.0\n",
       "tempo               0.0\n",
       "dtype: float64"
      ]
     },
     "execution_count": 57,
     "metadata": {},
     "output_type": "execute_result"
    }
   ],
   "source": [
    "tracks.isnull().sum() / 100 * len(track_data)"
   ]
  },
  {
   "cell_type": "markdown",
   "metadata": {},
   "source": [
    "W zbiorze tracks nie ma nulli"
   ]
  },
  {
   "cell_type": "markdown",
   "metadata": {},
   "source": [
    "#### Atrybut duration_ms"
   ]
  },
  {
   "cell_type": "markdown",
   "metadata": {},
   "source": [
    "Średnia wartość atrybutu"
   ]
  },
  {
   "cell_type": "code",
   "execution_count": 58,
   "metadata": {},
   "outputs": [
    {
     "data": {
      "text/plain": [
       "230138.3092539711"
      ]
     },
     "execution_count": 58,
     "metadata": {},
     "output_type": "execute_result"
    }
   ],
   "source": [
    "tracks[\"duration_ms\"].mean()"
   ]
  },
  {
   "cell_type": "markdown",
   "metadata": {},
   "source": [
    "Rozkład:"
   ]
  },
  {
   "cell_type": "code",
   "execution_count": 59,
   "metadata": {},
   "outputs": [
    {
     "data": {
      "image/png": "[encoded data removed]",
      "text/plain": [
       "<Figure size 500x500 with 1 Axes>"
      ]
     },
     "metadata": {},
     "output_type": "display_data"
    }
   ],
   "source": [
    "duration_hist = sns.displot(tracks, x=\"duration_ms\")\n",
    "duration_hist.set(xlabel=\"Duration [ms]\")\n",
    "plt.show()"
   ]
  },
  {
   "cell_type": "code",
   "execution_count": 60,
   "metadata": {},
   "outputs": [
    {
     "data": {
      "image/png": "[encoded data removed]",
      "text/plain": [
       "<Figure size 640x480 with 1 Axes>"
      ]
     },
     "metadata": {},
     "output_type": "display_data"
    }
   ],
   "source": [
    "duration_hist = sns.violinplot(tracks[\"duration_ms\"])\n",
    "duration_hist.set(ylabel= \"Duration [ms]\")\n",
    "plt.show()"
   ]
  },
  {
   "cell_type": "markdown",
   "metadata": {},
   "source": [
    "#### Ocena danych\n",
    "##### Tabela track_storage\n",
    "W tabeli track_storage znajduje się 22412 rekordów. Tabela reprezentuje obecne stałe koszty dla poszczególnych utworów. Nie zawiera ona żadnych nulli. Wartości atrybutu daily_cost mogą posłużyć do oceny modelu - czy uzyskane koszta będą sumarycznie lepsze od wartości w tej tabeli. Atrybut storage_class jest mocno niezbalansowany - zawiera 19044 wartości slow, 3346 wartości medium i 22 wartości fast. Dysproporcja ta wynika prawdopodobnie\n",
    "z różnych rozmiarów poziomów cache'u - najszybszy cache jest najmniejszy, a najwolniejszy jest największy. Niemniej jednak ilości występowania poszczególnych wartości dla atrybutu storage_class są bardzo duże - zwłaszcza dla wartości „fast”. Być może należy zastosować metody oversamplingu/undersamplingu do zmniejszenia tej dysproporcji, ewentualnie zignorować ten atrybut.\n",
    "\n",
    "##### Tabela sessions\n",
    "W tabeli sessions jest 80279 rekordów. Tabela reprezentuje sesje użytkowników. Tabela zawiera sporo wartości null w atrybutach event_type, user_id i track_id. Planujemy je obsłużyć - np. dla wartości event_type = advertisment wartość track_id jest zawsze równa null - można zastąpić wartości null dodatkową wartością. Oprócz tego jeśli event_type = skip lub event_type = like i wartość track_id nie jest nullem a dla poprzedniego rekordu o tym samym id sesji i użytkownika brakuje wartości track_id, można wstawić tam wartość track_id następnego rekordu. Jeśli dla kilku rekordów z tym samym session_id brakuje wartości user_id to można je uzupełnić wartościami id użytkownika z rekordów tej sesji. Oprócz tego występują też braki których nie możemy tak łatwo obsłużyć - np. braki wartości w 2 lub więcej kolumnach. Wtedy należało by rozważyć usunięcie wybrakowanych rekordów - jeśli nie będzie ich zbyt wiele, lub uzupełnić dane. \n",
    "\n",
    "#### Tabela tracks\n",
    "W tabeli tracks znajduje się 22412 rekordów - tyle samo co w tabeli track_storage, więc można uznać, że dla każdego utworu przypisany jest poziom cache. Tabela nie zawiera żadnych nulli - dla każdego utworu przypisany jest czas. \n",
    "\n",
    "#### Potrzebne zbiory i atrybuty\n",
    "1. Tabela sessions\n",
    "    - \"session_id\" - do obliczenia średniego czasu dostępu do utworu\n",
    "    - \"timestamp\" - do obliczenia średniego czasu dostępu do utworu i jako atrybut wejściowy modelu\n",
    "    - \"event_type\" i \"track_id\" - tak samo jak timestamp\n",
    "2. Tabela track_storage\n",
    "    - \"storage_type\" i \"track_id\" -  do policzenia bazowego kosztu w kryterium sukcesu\n",
    "3. Tabela tracks\n",
    "    - \"duration_ms\" - do obliczenia średniego czasu dostępu do muzyki i kosztu umieszczenia utworu w określonym cache'u w kryterium sukcesu \n",
    "Tabele artists i users nie wydają się potrzebne do realizacji zadania.\n",
    "\n",
    "#### Dane wejściowe i zmienna celu\n",
    "Danymi wejściowymi modelu będą atrybuty:\n",
    "1. \"timestamp\" - popularność danego utworu jest umieszczona w czasie; ewentualnie czas, który upłynął od momentu odtworzenia danego utowru\n",
    "2. \"track_id\" - musimy wiedzieć, który utwór jest popularny i często odtwarzany\n",
    "3. \"event_type\" - typ wydarzenia, jeśli utwór ma dużo wydarzeń typu \"skip\" to prawdopodobnie nie spodobał się użytkownikowi, a jeśli ma dużo \n",
    "wydarzeń typu \"play\" i \"like\" to prawdopodobnie jest warty wzięcia pod uwagę w modelowaniu jako potencjalnie popularny utwór.\n",
    "Dane z tabeli track_storage.jsonl zawierają obecnie określone przypisania utworów do odpowiednich cache'y - możemy to wykorzystać do obliczenia kosztów bazowych. W tej chwili widzimy, że około 5,7 razy więcej jest przypisanych utworów do cache'a \"slow\" niż do \"medium\" zaś do \"medium\" było przypisane około 152 razy więcej utworów niż do \"fast\". Są to odpowiednio jeden oraz dwa rzędy wielkości pomiędzy wyszczególnionymi poziomami. Analogiczną proporcję można wykorzystać do liczenia funkcji celu. \n",
    "Po uzyskaniu pozostałych zbiorów danych należy przeanalizować je i zobaczyć, czy znajdują się tam informacje, które mogą wpłynąć pozytywnie na ostatecznie utrzymany model.\n"
   ]
  }
 ],
 "metadata": {
  "kernelspec": {
   "display_name": "ium",
   "language": "python",
   "name": "python3"
  },
  "language_info": {
   "codemirror_mode": {
    "name": "ipython",
    "version": 3
   },
   "file_extension": ".py",
   "mimetype": "text/x-python",
   "name": "python",
   "nbconvert_exporter": "python",
   "pygments_lexer": "ipython3",
   "version": "3.10.13"
  }
 },
 "nbformat": 4,
 "nbformat_minor": 2
}
